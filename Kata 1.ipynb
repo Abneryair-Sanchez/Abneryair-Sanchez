{
 "cells": [
  {
   "cell_type": "code",
   "execution_count": null,
   "metadata": {},
   "outputs": [],
   "source": [
    "from datetime import date\n",
    "\n",
    "print(\"Today's date is: \")"
   ]
  }
 ],
 "metadata": {
  "interpreter": {
   "hash": "66b4fdc3f31b213433de44ec69f8322ce58efb94497a3d025bd3c730fc6e3dea"
  },
  "kernelspec": {
   "display_name": "Python 3.10.2 64-bit",
   "language": "python",
   "name": "python3"
  },
  "language_info": {
   "name": "python",
   "version": "3.10.2"
  },
  "orig_nbformat": 4
 },
 "nbformat": 4,
 "nbformat_minor": 2
}
